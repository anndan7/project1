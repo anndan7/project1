{
 "cells": [
  {
   "cell_type": "code",
   "execution_count": 9,
   "id": "ece45495",
   "metadata": {},
   "outputs": [],
   "source": [
    "import json\n",
    "import requests\n",
    "import pandas as pd\n",
    "import csv\n",
    "\n",
    "try:\n",
    "    #tries to take fruit data from api below\n",
    "    url = 'http://www.fruityvice.com/api/fruit/all'\n",
    "    response = requests.request('GET', url)\n",
    "except:\n",
    "    print('The API is not returning information currently. Try again soon.')\n",
    "response.content\n",
    "fruitJSON = response.json()\n",
    "\n",
    "#chooses certain fruits to include in the csv\n",
    "for i in range (0,31):\n",
    "    if fruitJSON[i]['name']=='Banana':\n",
    "        banana = fruitJSON[i]\n",
    "    if fruitJSON[i]['name']=='Lemon':\n",
    "        lemon = fruitJSON[i]\n",
    "    if fruitJSON[i]['name']=='Grapes':\n",
    "        grape = fruitJSON[i]\n",
    "    if fruitJSON[i]['name']=='Lime':\n",
    "        lime = fruitJSON[i]\n",
    "    if fruitJSON[i]['name']=='Mango':\n",
    "        mango = fruitJSON[i]\n",
    "\n",
    "#write choosen fruits to csv file\n",
    "data_file = open('fruit.csv', 'w')\n",
    "csv_writer = csv.writer(data_file)\n",
    "csv_writer.writerow(banana.keys())\n",
    "csv_writer.writerow(banana.values())\n",
    "csv_writer.writerow(lemon.values())\n",
    "csv_writer.writerow(grape.values())\n",
    "csv_writer.writerow(lime.values())\n",
    "csv_writer.writerow(mango.values())\n",
    "data_file.close()\n"
   ]
  },
  {
   "cell_type": "code",
   "execution_count": null,
   "id": "864a6e42",
   "metadata": {},
   "outputs": [],
   "source": []
  }
 ],
 "metadata": {
  "kernelspec": {
   "display_name": "Python 3 (ipykernel)",
   "language": "python",
   "name": "python3"
  },
  "language_info": {
   "codemirror_mode": {
    "name": "ipython",
    "version": 3
   },
   "file_extension": ".py",
   "mimetype": "text/x-python",
   "name": "python",
   "nbconvert_exporter": "python",
   "pygments_lexer": "ipython3",
   "version": "3.9.12"
  }
 },
 "nbformat": 4,
 "nbformat_minor": 5
}
